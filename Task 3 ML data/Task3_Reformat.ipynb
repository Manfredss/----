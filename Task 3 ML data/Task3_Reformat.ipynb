{
 "cells": [
  {
   "cell_type": "code",
   "execution_count": 67,
   "id": "fa4d5a3d",
   "metadata": {},
   "outputs": [
    {
     "name": "stdout",
     "output_type": "stream",
     "text": [
      "Total number of QA pairs: 123282\n",
      "Time of Reformatting: 23.78 seconds\n"
     ]
    }
   ],
   "source": [
    "import json, re, time, uuid\n",
    "import huggingface_hub\n",
    "import transformers\n",
    "from datasets import load_dataset\n",
    "\n",
    "# Load the dataset\n",
    "ds = load_dataset(\"AdaptLLM/finance-tasks\", \"Headline\")\n",
    "\n",
    "# Check column names\n",
    "# print(ds['test'][0].keys())\n",
    "# print(ds['test'][0]['input'])\n",
    "\n",
    "questionPattern = re.compile(r'\\bDoes[^?]*\\?', re.IGNORECASE)\n",
    "# headlinePattern = re.compile(r'\\bHeadline\\b.*?\\bheadline\\b', re.IGNORECASE)\n",
    "\n",
    "start = time.time()\n",
    "QAPairNum = 0\n",
    "for idx, entry in enumerate(ds['test']):\n",
    "    # Debud: if code can handle various formats\n",
    "    # if idx == 5: break\n",
    "\n",
    "    records = entry['input'].strip().split('\\n')\n",
    "    goldIndex = entry['gold_index']\n",
    "    classId = entry['class_id']\n",
    "    questionList, answerList = list(), list()\n",
    "\n",
    "    # Get the questions using regex\n",
    "    for match in questionPattern.finditer(entry['input']):\n",
    "        question = match.group().strip()\n",
    "        questionList.append(question)\n",
    "    \n",
    "    # Get the headline\n",
    "    # The headlines are always before the questions, after the empty line\n",
    "    # Since the dataset is used for training, all information is preserved, sort of 'prompt'\n",
    "    flag = True\n",
    "    for i, record in enumerate(records):\n",
    "        if flag:\n",
    "            if 'Does' in record:\n",
    "                idx = record.index('Does')\n",
    "                context = record[:idx].strip()\n",
    "            else:\n",
    "                context = record.strip()\n",
    "            flag = False\n",
    "        if record == '':\n",
    "            flag = True\n",
    "        \n",
    "        # Get the answers. Obserbe that the answer is always at the end of the record, before the next empty line\n",
    "        # Note that the answer to the last question in an entry is not given\n",
    "        answer = ''\n",
    "        if i + 1 < len(records) and records[i + 1] == '':\n",
    "            answer = record[-3:].strip()\n",
    "            answerList.append(answer)\n",
    "        elif i + 1 == len(records):\n",
    "            answerList.append(answer)\n",
    "\n",
    "    # Save the data in separate jsonl files\n",
    "    # One with answers and the other without\n",
    "    # Use jsonl can add new data without overwriting\n",
    "    for question, answer in zip(questionList, answerList):\n",
    "        data = {'id': QAPairNum,\n",
    "                'Question': question, \n",
    "                'Answer': answer,\n",
    "                'Context': context,\n",
    "                'Answer Options': ['Yes', 'No'],\n",
    "                'Gold_index': goldIndex,\n",
    "                'Class_id': classId}\n",
    "        if answer != '':\n",
    "            with open('reformated_with_answer.jsonl', 'a') as f:\n",
    "                f.write(json.dumps(data, indent=4) + '\\n')\n",
    "        else:\n",
    "            with open('reformated_no_answer.jsonl', 'a') as f:\n",
    "                f.write(json.dumps(data, indent=4) + '\\n')\n",
    "        QAPairNum += 1\n",
    "\n",
    "print(f'Total number of QA pairs: {QAPairNum}')\n",
    "print(f'Time of Reformatting: {time.time() - start:.2f} seconds')\n"
   ]
  }
 ],
 "metadata": {
  "kernelspec": {
   "display_name": "Python 3",
   "language": "python",
   "name": "python3"
  },
  "language_info": {
   "codemirror_mode": {
    "name": "ipython",
    "version": 3
   },
   "file_extension": ".py",
   "mimetype": "text/x-python",
   "name": "python",
   "nbconvert_exporter": "python",
   "pygments_lexer": "ipython3",
   "version": "3.10.14"
  }
 },
 "nbformat": 4,
 "nbformat_minor": 5
}
