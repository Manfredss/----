{
 "cells": [
  {
   "cell_type": "code",
   "execution_count": null,
   "id": "5d4173de",
   "metadata": {},
   "outputs": [],
   "source": [
    "import csv, requests, time\n",
    "from bs4 import BeautifulSoup\n",
    "import pandas as pd\n",
    "from selenium import webdriver\n",
    "from selenium.webdriver.common.by import By\n",
    "from selenium.webdriver.chrome.service import Service\n",
    "from webdriver_manager.chrome import ChromeDriverManager\n",
    "\n",
    "outputfile = 'pultegroup_jobs.csv'\n",
    "url = 'https://pultegroup.wd1.myworkdayjobs.com/PGI.'\n",
    "\n"
   ]
  }
 ],
 "metadata": {
  "kernelspec": {
   "display_name": "Python 3",
   "language": "python",
   "name": "python3"
  },
  "language_info": {
   "name": "python",
   "version": "3.10.14"
  }
 },
 "nbformat": 4,
 "nbformat_minor": 5
}
